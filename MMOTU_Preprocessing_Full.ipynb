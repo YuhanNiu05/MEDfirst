{
 "cells": [
  {
   "cell_type": "markdown",
   "id": "4de3994a",
   "metadata": {},
   "source": [
    "# 🧪 MMOTU Dataset Preprocessing Notebook\n",
    "This notebook performs preprocessing for multi-modal ovarian tumor ultrasound segmentation: unifying file extensions, extracting intersection IDs, preprocessing to `.npy`, and splitting train/val/test."
   ]
  },
  {
   "cell_type": "code",
   "execution_count": 12,
   "id": "9e2676d7",
   "metadata": {},
   "outputs": [],
   "source": [
    "from pathlib import Path\n",
    "import os\n",
    "\n",
    "# === Configuration ===\n",
    "DATA_ROOT = Path('/root/autodl-tmp')\n",
    "\n",
    "# 2D data\n",
    "TWO_D_IMG_DIR = DATA_ROOT / 'OTU_2d' / 'images'\n",
    "TWO_D_MASK_DIR = DATA_ROOT / 'OTU_2d' / 'annotations'\n",
    "\n",
    "# CEUS data\n",
    "CEUS_IMG_DIR = DATA_ROOT / 'OTU_3d' / 'images'\n",
    "CEUS_MASK_DIR = DATA_ROOT / 'OTU_3d' / 'annotations'\n",
    "\n",
    "# Output folders\n",
    "OUT_ROOT = DATA_ROOT / 'preprocessed_mmOTU'\n",
    "OUT_2D_IMG = OUT_ROOT / '2d' / 'images'\n",
    "OUT_2D_MASK = OUT_ROOT / '2d' / 'masks'\n",
    "OUT_CEUS_IMG = OUT_ROOT / '3d' / 'images'\n",
    "OUT_CEUS_MASK = OUT_ROOT / '3d' / 'masks'\n",
    "\n",
    "for p in [OUT_2D_IMG, OUT_2D_MASK, OUT_CEUS_IMG, OUT_CEUS_MASK]:\n",
    "    p.mkdir(parents=True, exist_ok=True)\n",
    "\n",
    "IMG_SIZE = (256, 256)\n",
    "SPLIT_RATIO = (0.6, 0.2, 0.2)\n"
   ]
  },
  {
   "cell_type": "markdown",
   "id": "b5fabbf8",
   "metadata": {},
   "source": [
    "## Step 1: Normalize file extensions to lowercase"
   ]
  },
  {
   "cell_type": "code",
   "execution_count": 13,
   "id": "318bac35",
   "metadata": {},
   "outputs": [
    {
     "name": "stdout",
     "output_type": "stream",
     "text": [
      "Renamed:\n",
      "2D images: 0\n",
      "2D masks : 0\n",
      "CEUS images: 0\n",
      "CEUS masks : 0\n"
     ]
    }
   ],
   "source": [
    "def lowercase_extensions(folder: Path, exts=(\".JPG\", \".PNG\", \".JPEG\")):\n",
    "    cnt = 0\n",
    "    for fname in os.listdir(folder):\n",
    "        src = folder / fname\n",
    "        if not src.is_file():\n",
    "            continue\n",
    "        for ext in exts:\n",
    "            if fname.endswith(ext):\n",
    "                dst = folder / fname.replace(ext, ext.lower())\n",
    "                if src != dst:\n",
    "                    os.rename(src, dst)\n",
    "                    cnt += 1\n",
    "                break\n",
    "    return cnt\n",
    "\n",
    "print(\"Renamed:\")\n",
    "print(\"2D images:\", lowercase_extensions(TWO_D_IMG_DIR))\n",
    "print(\"2D masks :\", lowercase_extensions(TWO_D_MASK_DIR))\n",
    "print(\"CEUS images:\", lowercase_extensions(CEUS_IMG_DIR))\n",
    "print(\"CEUS masks :\", lowercase_extensions(CEUS_MASK_DIR))\n"
   ]
  },
  {
   "cell_type": "markdown",
   "id": "1f7c9e2e",
   "metadata": {},
   "source": [
    "## Step 2: Extract common IDs between 2D and CEUS"
   ]
  },
  {
   "cell_type": "code",
   "execution_count": 14,
   "id": "34ca987d",
   "metadata": {},
   "outputs": [
    {
     "name": "stdout",
     "output_type": "stream",
     "text": [
      "✅ Found 170 valid paired IDs.\n"
     ]
    }
   ],
   "source": [
    "def collect_ids_2d(img_dir: Path, mask_dir: Path):\n",
    "    imgs = set([p.stem for p in img_dir.glob('*.jpg')])\n",
    "    masks = set([p.stem.replace('_binary', '') for p in mask_dir.glob('*.png') if '_binary' in p.stem])\n",
    "    return imgs & masks\n",
    "\n",
    "def collect_ids_ceus(img_dir: Path, mask_dir: Path):\n",
    "    imgs = set([p.stem for p in img_dir.glob('*.jpg')] + [p.stem for p in img_dir.glob('*.png')])\n",
    "    masks = set([p.stem for p in mask_dir.glob('*.png')])\n",
    "    return imgs & masks\n",
    "\n",
    "ids_2d = collect_ids_2d(TWO_D_IMG_DIR, TWO_D_MASK_DIR)\n",
    "ids_ceus = collect_ids_ceus(CEUS_IMG_DIR, CEUS_MASK_DIR)\n",
    "common_ids = sorted(list(ids_2d & ids_ceus))\n",
    "print(f\"✅ Found {len(common_ids)} valid paired IDs.\")\n"
   ]
  },
  {
   "cell_type": "markdown",
   "id": "8c7c0e94",
   "metadata": {},
   "source": [
    "## Step 3: Preprocess images and masks to `.npy`"
   ]
  },
  {
   "cell_type": "code",
   "execution_count": 15,
   "id": "2d49d0be",
   "metadata": {},
   "outputs": [
    {
     "name": "stderr",
     "output_type": "stream",
     "text": [
      "100%|██████████| 170/170 [00:03<00:00, 53.68it/s]"
     ]
    },
    {
     "name": "stdout",
     "output_type": "stream",
     "text": [
      "✅ Preprocessed 170 samples to /root/autodl-tmp/preprocessed_mmOTU\n"
     ]
    },
    {
     "name": "stderr",
     "output_type": "stream",
     "text": [
      "\n"
     ]
    }
   ],
   "source": [
    "import numpy as np\n",
    "from PIL import Image\n",
    "from tqdm import tqdm\n",
    "\n",
    "def load_gray(path, size):\n",
    "    return np.array(Image.open(path).convert(\"L\").resize(size)) / 255.0\n",
    "\n",
    "def load_mask(path, size):\n",
    "    m = Image.open(path).resize(size)\n",
    "    m = np.array(m)\n",
    "    if m.ndim == 3:\n",
    "        m = m[...,0]\n",
    "    return (m > 10).astype(np.uint8)\n",
    "\n",
    "converted = 0\n",
    "for idx in tqdm(common_ids):\n",
    "    try:\n",
    "        # 2D\n",
    "        img2d = load_gray(TWO_D_IMG_DIR / f\"{idx}.jpg\", IMG_SIZE)\n",
    "        msk2d = load_mask(TWO_D_MASK_DIR / f\"{idx}_binary.png\", IMG_SIZE)\n",
    "        np.save(OUT_2D_IMG / f\"{idx}.npy\", img2d)\n",
    "        np.save(OUT_2D_MASK / f\"{idx}.npy\", msk2d)\n",
    "\n",
    "        # CEUS\n",
    "        if (CEUS_IMG_DIR / f\"{idx}.jpg\").exists():\n",
    "            ceus_path = CEUS_IMG_DIR / f\"{idx}.jpg\"\n",
    "        else:\n",
    "            ceus_path = CEUS_IMG_DIR / f\"{idx}.png\"\n",
    "        imgceus = load_gray(ceus_path, IMG_SIZE)\n",
    "        mskceus = load_mask(CEUS_MASK_DIR / f\"{idx}.png\", IMG_SIZE)\n",
    "        np.save(OUT_CEUS_IMG / f\"{idx}.npy\", imgceus)\n",
    "        np.save(OUT_CEUS_MASK / f\"{idx}.npy\", mskceus)\n",
    "\n",
    "        converted += 1\n",
    "    except Exception as e:\n",
    "        print(f\"❌ Error on ID {idx}: {e}\")\n",
    "\n",
    "print(f\"✅ Preprocessed {converted} samples to {OUT_ROOT}\")\n"
   ]
  },
  {
   "cell_type": "markdown",
   "id": "9fcab4cf",
   "metadata": {},
   "source": [
    "## Step 4: Split into train/val/test"
   ]
  },
  {
   "cell_type": "code",
   "execution_count": 16,
   "id": "af4b8415",
   "metadata": {},
   "outputs": [
    {
     "name": "stdout",
     "output_type": "stream",
     "text": [
      "✅ Split complete: 102 train, 34 val, 34 test\n"
     ]
    }
   ],
   "source": [
    "import random\n",
    "\n",
    "random.seed(42)\n",
    "random.shuffle(common_ids)\n",
    "n = len(common_ids)\n",
    "n_train = int(SPLIT_RATIO[0] * n)\n",
    "n_val = int(SPLIT_RATIO[1] * n)\n",
    "\n",
    "train_ids = common_ids[:n_train]\n",
    "val_ids = common_ids[n_train:n_train+n_val]\n",
    "test_ids = common_ids[n_train+n_val:]\n",
    "\n",
    "def save_list(name, ids):\n",
    "    with open(OUT_ROOT / f\"{name}_ids.txt\", \"w\") as f:\n",
    "        for i in ids:\n",
    "            f.write(i + \"\\n\")\n",
    "\n",
    "save_list(\"train\", train_ids)\n",
    "save_list(\"val\", val_ids)\n",
    "save_list(\"test\", test_ids)\n",
    "\n",
    "print(f\"✅ Split complete: {len(train_ids)} train, {len(val_ids)} val, {len(test_ids)} test\")\n"
   ]
  },
  {
   "cell_type": "markdown",
   "id": "4edad76d",
   "metadata": {},
   "source": [
    "## Step 5: Define simple data augmentation"
   ]
  },
  {
   "cell_type": "code",
   "execution_count": 17,
   "id": "073d7e84",
   "metadata": {},
   "outputs": [],
   "source": [
    "from PIL import ImageEnhance\n",
    "\n",
    "def augment_pair(x2d, xceus, y):\n",
    "    img2d = Image.fromarray((x2d * 255).astype(np.uint8))\n",
    "    imgc = Image.fromarray((xceus * 255).astype(np.uint8))\n",
    "    msk = Image.fromarray((y * 255).astype(np.uint8))\n",
    "\n",
    "    # flip\n",
    "    if random.random() < 0.5:\n",
    "        img2d = img2d.transpose(Image.FLIP_LEFT_RIGHT)\n",
    "        imgc = imgc.transpose(Image.FLIP_LEFT_RIGHT)\n",
    "        msk = msk.transpose(Image.FLIP_LEFT_RIGHT)\n",
    "\n",
    "    # rotate\n",
    "    if random.random() < 0.5:\n",
    "        angle = random.uniform(-10, 10)\n",
    "        img2d = img2d.rotate(angle)\n",
    "        imgc = imgc.rotate(angle)\n",
    "        msk = msk.rotate(angle)\n",
    "\n",
    "    # contrast CEUS\n",
    "    if random.random() < 0.5:\n",
    "        imgc = ImageEnhance.Contrast(imgc).enhance(random.uniform(0.8, 1.2))\n",
    "\n",
    "    return (\n",
    "        np.array(img2d).astype(np.float32)/255.0,\n",
    "        np.array(imgc).astype(np.float32)/255.0,\n",
    "        (np.array(msk) > 10).astype(np.uint8)\n",
    "    )\n"
   ]
  },
  {
   "cell_type": "code",
   "execution_count": null,
   "id": "d63df55c-11ea-49cf-b061-d754f290a750",
   "metadata": {},
   "outputs": [],
   "source": []
  }
 ],
 "metadata": {
  "kernelspec": {
   "display_name": "Python 3 (ipykernel)",
   "language": "python",
   "name": "python3"
  },
  "language_info": {
   "codemirror_mode": {
    "name": "ipython",
    "version": 3
   },
   "file_extension": ".py",
   "mimetype": "text/x-python",
   "name": "python",
   "nbconvert_exporter": "python",
   "pygments_lexer": "ipython3",
   "version": "3.12.3"
  }
 },
 "nbformat": 4,
 "nbformat_minor": 5
}
